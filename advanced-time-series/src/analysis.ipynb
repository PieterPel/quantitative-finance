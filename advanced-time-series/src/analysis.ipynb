{
 "cells": [
  {
   "cell_type": "markdown",
   "id": "7c7570fcdebdf16f",
   "metadata": {
    "collapsed": false
   },
   "source": [
    "# Advanced Time Series Econometrics - Assignment\n",
    "\n",
    "This notebook contains the code for the ATSE assignment. The topics considered are:\n",
    "- State space switching models\n",
    "- Markov switching models\n",
    "\n",
    "Note that the data we are using are annualized and sampled quarterly. Furthermore, the data represents change in the variable in percent points.\n"
   ]
  },
  {
   "cell_type": "code",
   "execution_count": null,
   "id": "initial_id",
   "metadata": {
    "collapsed": false
   },
   "outputs": [],
   "source": [
    "import os\n",
    "import numpy as np\n",
    "import pandas as pd\n",
    "import statsmodels.api as sm\n",
    "import statsmodels.formula.api as smf\n",
    "import matplotlib.pyplot as plt"
   ]
  },
  {
   "cell_type": "code",
   "execution_count": null,
   "id": "86c2bffdf93de46d",
   "metadata": {
    "collapsed": false
   },
   "outputs": [],
   "source": [
    "plt.style.use('ggplot')"
   ]
  },
  {
   "cell_type": "markdown",
   "id": "f232661fd8acc4b4",
   "metadata": {
    "collapsed": false
   },
   "source": [
    "## Data"
   ]
  },
  {
   "cell_type": "code",
   "execution_count": null,
   "id": "83f8f3dafa07481a",
   "metadata": {
    "collapsed": false
   },
   "outputs": [],
   "source": [
    "data = pd.read_csv(filepath_or_buffer='data.csv', sep=';', parse_dates=[0], decimal=',')"
   ]
  },
  {
   "cell_type": "code",
   "execution_count": null,
   "id": "b19ccbf27ab3c444",
   "metadata": {
    "collapsed": false
   },
   "outputs": [],
   "source": [
    "data.info()"
   ]
  },
  {
   "cell_type": "code",
   "execution_count": null,
   "id": "f8c68aaa2368c346",
   "metadata": {
    "collapsed": false
   },
   "outputs": [],
   "source": [
    "data.head()"
   ]
  },
  {
   "cell_type": "code",
   "execution_count": null,
   "id": "3cf3afbf2b033a21",
   "metadata": {
    "collapsed": false
   },
   "outputs": [],
   "source": [
    "data.set_index('observation_date', drop=True, inplace=True)"
   ]
  },
  {
   "cell_type": "code",
   "execution_count": null,
   "id": "573b24219cb44e8",
   "metadata": {
    "collapsed": false
   },
   "outputs": [],
   "source": [
    "data.info()"
   ]
  },
  {
   "cell_type": "code",
   "execution_count": null,
   "id": "5a0ad3ce3faa12bf",
   "metadata": {
    "collapsed": false
   },
   "outputs": [],
   "source": [
    "print('PCE: personal consumption')\n",
    "print('PAYEMS: employment')\n",
    "print('IPMAN: industrial production')\n",
    "data.describe()"
   ]
  },
  {
   "cell_type": "code",
   "execution_count": null,
   "id": "1cad8c969c119c0f",
   "metadata": {
    "collapsed": false
   },
   "outputs": [],
   "source": [
    "plt.plot('PCE', data=data)\n",
    "plt.plot('PAYEMS', data=data)\n",
    "plt.plot('IPMAN', data=data)\n",
    "\n",
    "plt.xlabel('Date')\n",
    "plt.legend()\n",
    "plt.tight_layout()"
   ]
  },
  {
   "cell_type": "markdown",
   "id": "362db3895f012925",
   "metadata": {
    "collapsed": false
   },
   "source": [
    "### Split the data"
   ]
  },
  {
   "cell_type": "code",
   "execution_count": null,
   "id": "11643ae955ee9fb2",
   "metadata": {
    "collapsed": false
   },
   "outputs": [],
   "source": [
    "train = data.copy().iloc[0:189]\n",
    "test = data.copy().iloc[189:]\n",
    "print(train.index[0])\n",
    "print(train.index[-1])\n",
    "print('-'*100)\n",
    "print(test.index[0])\n",
    "print(test.index[-1])\n",
    "print('-'*100)\n",
    "print(data.shape)\n",
    "print(train.shape)\n",
    "print(test.shape)\n",
    "print('-'*100)\n",
    "print(data.index[0])\n",
    "print(data.index[-1])"
   ]
  },
  {
   "cell_type": "markdown",
   "id": "9c5a3eabbc8afb1",
   "metadata": {
    "collapsed": false
   },
   "source": [
    "## Question 1: Markov Switching Models\n",
    "\n",
    "### A"
   ]
  },
  {
   "cell_type": "code",
   "execution_count": null,
   "id": "a64899a8740dd4f1",
   "metadata": {
    "collapsed": false
   },
   "outputs": [],
   "source": [
    "mean_ipman = train['IPMAN'].mean()\n",
    "sd_ipman = train['IPMAN'].std()\n",
    "\n",
    "sigma_s1 = 0.5*sd_ipman\n",
    "sigma_s2 = 1.5*sd_ipman"
   ]
  },
  {
   "cell_type": "markdown",
   "id": "70daf2c4b1fb2920",
   "metadata": {
    "collapsed": false
   },
   "source": [
    "#### I"
   ]
  },
  {
   "cell_type": "code",
   "execution_count": null,
   "id": "d4a81e530facfc37",
   "metadata": {
    "collapsed": false
   },
   "outputs": [],
   "source": [
    "markov_hamilton_1 = sm.tsa.MarkovRegression(endog=train['IPMAN'], k_regimes=2, trend='c', switching_variance=True) # specify the model\n",
    "print(markov_hamilton_1.param_names)"
   ]
  },
  {
   "cell_type": "code",
   "execution_count": null,
   "id": "13939e3c88335736",
   "metadata": {
    "collapsed": false
   },
   "outputs": [],
   "source": [
    "markov_hamilton_1.initialize_known([1,0])  # initialize the model in state 1\n",
    "\n",
    "# fit the model by maximum likelihood using the Hamilton filter using start parameters in the order printed in the output of the cell above\n",
    "# and don't use EM algorithm to improve starting values by setting em_iter=0 and search_iter=0\n",
    "markov_hamilton_1_fitted = markov_hamilton_1.fit(start_params=[0.8, 0.2, mean_ipman, mean_ipman, sigma_s1**2, sigma_s2**2], em_iter=0, search_iter=0)\n",
    "\n",
    "#print summary of fitted model\n",
    "print(markov_hamilton_1_fitted.summary())"
   ]
  },
  {
   "cell_type": "code",
   "execution_count": null,
   "id": "812b1c86511943e6",
   "metadata": {
    "collapsed": false
   },
   "outputs": [],
   "source": [
    "mh1_params = markov_hamilton_1_fitted.params.copy()\n",
    "mh1_params"
   ]
  },
  {
   "cell_type": "code",
   "execution_count": null,
   "id": "b62df1de8afe6332",
   "metadata": {
    "collapsed": false
   },
   "outputs": [],
   "source": []
  },
  {
   "cell_type": "code",
   "execution_count": null,
   "id": "c519d1c81927775d",
   "metadata": {
    "collapsed": false
   },
   "outputs": [],
   "source": [
    "mh1_initial_probabilities = markov_hamilton_1_fitted.initial_probabilities  # extract the initial probabilities\n",
    "mh1_initial_probabilities"
   ]
  },
  {
   "cell_type": "code",
   "execution_count": null,
   "id": "2d22bef873ac35fd",
   "metadata": {
    "collapsed": false
   },
   "outputs": [],
   "source": [
    "mh1_P = markov_hamilton_1_fitted.regime_transition.reshape((2,2))  # extract the left stochastic transition matrix\n",
    "mh1_P"
   ]
  },
  {
   "cell_type": "markdown",
   "id": "f714e57da045aff7",
   "metadata": {
    "collapsed": false
   },
   "source": [
    "#### II"
   ]
  },
  {
   "cell_type": "code",
   "execution_count": null,
   "id": "d5b19d591530a0b1",
   "metadata": {
    "collapsed": false
   },
   "outputs": [],
   "source": [
    "markov_hamilton_2 = sm.tsa.MarkovRegression(endog=train['IPMAN'], k_regimes=2, trend='c', switching_variance=True) # specify the model\n",
    "print(markov_hamilton_2.param_names)"
   ]
  },
  {
   "cell_type": "code",
   "execution_count": null,
   "id": "159a163d2509b98b",
   "metadata": {
    "collapsed": false
   },
   "outputs": [],
   "source": [
    "markov_hamilton_2.initialize_known([0,1])  # initialize the model in state 2\n",
    "\n",
    "# fit the model by maximum likelihood using the Hamilton filter using start parameters in the order printed in the output of the cell above\n",
    "# and don't use EM algorithm to improve starting values by setting em_iter=0 and search_iter=0\n",
    "markov_hamilton_2_fitted = markov_hamilton_2.fit(start_params=[0.8, 0.2, mean_ipman, mean_ipman, sigma_s1**2, sigma_s2**2], em_iter=0, search_iter=0)\n",
    "\n",
    "#print summary of fitted model\n",
    "print(markov_hamilton_2_fitted.summary())"
   ]
  },
  {
   "cell_type": "code",
   "execution_count": null,
   "id": "268a43be27196574",
   "metadata": {
    "collapsed": false
   },
   "outputs": [],
   "source": [
    "mh2_params = markov_hamilton_2_fitted.params.copy()\n",
    "mh2_params"
   ]
  },
  {
   "cell_type": "code",
   "execution_count": null,
   "id": "7f5ccaec26e12767",
   "metadata": {
    "collapsed": false
   },
   "outputs": [],
   "source": [
    "mh2_params.iloc[-2]**0.5"
   ]
  },
  {
   "cell_type": "code",
   "execution_count": null,
   "id": "17ed99f1fb587cc8",
   "metadata": {
    "collapsed": false
   },
   "outputs": [],
   "source": [
    "mh2_params.iloc[-1]**0.5"
   ]
  },
  {
   "cell_type": "code",
   "execution_count": null,
   "id": "77d3f824b1e4de98",
   "metadata": {
    "collapsed": false
   },
   "outputs": [],
   "source": [
    "mh2_initial_probabilities = markov_hamilton_2_fitted.initial_probabilities  # extract the initial probabilities\n",
    "mh2_initial_probabilities"
   ]
  },
  {
   "cell_type": "code",
   "execution_count": null,
   "id": "5bddc7df057348f7",
   "metadata": {
    "collapsed": false
   },
   "outputs": [],
   "source": [
    "mh2_P = markov_hamilton_2_fitted.regime_transition.reshape((2,2))  # extract the left stochastic transition matrix\n",
    "mh2_P"
   ]
  },
  {
   "cell_type": "markdown",
   "id": "9364d9311eddde33",
   "metadata": {
    "collapsed": false
   },
   "source": [
    "#### III"
   ]
  },
  {
   "cell_type": "code",
   "execution_count": null,
   "id": "5165db42db510d5",
   "metadata": {
    "collapsed": false
   },
   "outputs": [],
   "source": [
    "markov_hamilton_ss = sm.tsa.MarkovRegression(endog=train['IPMAN'], k_regimes=2, trend='c', switching_variance=True) # specify the model\n",
    "print(markov_hamilton_ss.param_names)"
   ]
  },
  {
   "cell_type": "code",
   "execution_count": null,
   "id": "cd519ca11a922e3b",
   "metadata": {
    "collapsed": false
   },
   "outputs": [],
   "source": [
    "markov_hamilton_ss.initialize_steady_state()  # initialize the model in the steady state probabilities\n",
    "\n",
    "# fit the model by maximum likelihood using the Hamilton filter using start parameters in the order printed in the output of the cell above\n",
    "# and don't use EM algorithm to improve starting values by setting em_iter=0 and search_iter=0\n",
    "markov_hamilton_ss_fitted = markov_hamilton_ss.fit(start_params=[0.8, 0.2, mean_ipman, mean_ipman, sigma_s1**2, sigma_s2**2], em_iter=0, search_iter=0)\n",
    "\n",
    "#print summary of fitted model\n",
    "print(markov_hamilton_ss_fitted.summary())"
   ]
  },
  {
   "cell_type": "code",
   "execution_count": null,
   "id": "358fcaa2129cb26f",
   "metadata": {
    "collapsed": false
   },
   "outputs": [],
   "source": [
    "mhss_params = markov_hamilton_ss_fitted.params.copy()\n",
    "mhss_params"
   ]
  },
  {
   "cell_type": "code",
   "execution_count": null,
   "id": "38d2f3e7a087da1e",
   "metadata": {
    "collapsed": false
   },
   "outputs": [],
   "source": [
    "mhss_initial_probabilities = markov_hamilton_ss_fitted.initial_probabilities  # extract the initial probabilities\n",
    "mhss_initial_probabilities"
   ]
  },
  {
   "cell_type": "code",
   "execution_count": null,
   "id": "1acd5f3a68004d9d",
   "metadata": {
    "collapsed": false
   },
   "outputs": [],
   "source": [
    "mhss_P = markov_hamilton_ss_fitted.regime_transition.reshape((2,2))  # extract the left stochastic transition matrix\n",
    "mhss_P"
   ]
  },
  {
   "cell_type": "code",
   "execution_count": null,
   "id": "9cc4706d08af3529",
   "metadata": {
    "collapsed": false
   },
   "outputs": [],
   "source": [
    "dir(markov_hamilton_ss_fitted)"
   ]
  },
  {
   "cell_type": "code",
   "execution_count": null,
   "id": "7dd2d78f8caca8a5",
   "metadata": {
    "collapsed": false
   },
   "outputs": [],
   "source": [
    "mhss_P"
   ]
  },
  {
   "cell_type": "code",
   "execution_count": null,
   "id": "1af87c2e83409625",
   "metadata": {
    "collapsed": false
   },
   "outputs": [],
   "source": [
    "(1-mhss_P[1,1])/(2-mhss_P[0,0]-mhss_P[1,1])  # steady sate p1"
   ]
  },
  {
   "cell_type": "markdown",
   "id": "db39e6b9713c1ac3",
   "metadata": {
    "collapsed": false
   },
   "source": [
    "### B\n",
    "\n",
    "Unfortunately, the *statsmodels* library does not yet support out-of-sample predictions for Markov switching models. Fortunately, this is rather easy to do manually using the formulas from the slides. Note that, while the *statsmodels* library does have a *predict* method for Markov switching models, this method gives an *NotImplementedError* when applied to out-of-sample data.\n",
    "\n",
    "We are asked to use the model that was initialized in state 1"
   ]
  },
  {
   "cell_type": "code",
   "execution_count": null,
   "id": "892414aed4b043e5",
   "metadata": {
    "collapsed": false
   },
   "outputs": [],
   "source": [
    "markov_hamilton_1_fitted.predicted_marginal_probabilities.head()  # check out the predicted ksi vector"
   ]
  },
  {
   "cell_type": "code",
   "execution_count": null,
   "id": "b0ed95db232ad96e",
   "metadata": {
    "collapsed": false
   },
   "outputs": [],
   "source": [
    "markov_hamilton_1_fitted.filtered_marginal_probabilities.head()  # check out the updated (filtered) ksi vector"
   ]
  },
  {
   "cell_type": "code",
   "execution_count": null,
   "id": "922beaa36201e82f",
   "metadata": {
    "collapsed": false
   },
   "outputs": [],
   "source": [
    "initial_ksi = markov_hamilton_1_fitted.filtered_marginal_probabilities.iloc[-1]\n",
    "predicted_ksi = np.array([np.linalg.matrix_power(mh1_P, i) @ initial_ksi for i in range (1,test.shape[0]+1)])\n",
    "predicted_ksi"
   ]
  },
  {
   "cell_type": "code",
   "execution_count": null,
   "id": "c3717cec3c7b0b4",
   "metadata": {
    "collapsed": false
   },
   "outputs": [],
   "source": [
    "# next we compute the predicted y_t\n",
    "out_sample_forecasted_y = mh1_params['const[0]'] * predicted_ksi[:,0] + mh1_params['const[1]'] * predicted_ksi[:,1]\n",
    "out_sample_forecasted_y"
   ]
  },
  {
   "cell_type": "code",
   "execution_count": null,
   "id": "4b017ba4c2f248a7",
   "metadata": {
    "collapsed": false
   },
   "outputs": [],
   "source": [
    "mh1_out_of_sample_forecast_results = pd.DataFrame(test['IPMAN'].copy())\n",
    "mh1_out_of_sample_forecast_results['predicted_IPMAN'] = out_sample_forecasted_y\n",
    "mh1_out_of_sample_forecast_results.rename(columns={'IPMAN': 'actual_IPMAN'}, inplace=True)\n",
    "mh1_out_of_sample_forecast_results['forecast_error'] = mh1_out_of_sample_forecast_results['actual_IPMAN'] - mh1_out_of_sample_forecast_results['predicted_IPMAN']\n",
    "mh1_out_of_sample_forecast_mse = (mh1_out_of_sample_forecast_results['forecast_error'] ** 2).mean()\n",
    "print(f'MSFE: {mh1_out_of_sample_forecast_mse}')\n",
    "mh1_out_of_sample_forecast_results"
   ]
  },
  {
   "cell_type": "markdown",
   "id": "f78746b3785bd23b",
   "metadata": {
    "collapsed": false
   },
   "source": [
    "### C"
   ]
  },
  {
   "cell_type": "code",
   "execution_count": null,
   "id": "cdf49617d080427f",
   "metadata": {
    "collapsed": false
   },
   "outputs": [],
   "source": [
    "markov_hamilton_1_out_sample = sm.tsa.MarkovRegression(endog=data['IPMAN'], k_regimes=2, trend='c', switching_variance=True) # specify the model\n",
    "markov_hamilton_1_out_sample.initialize_known([1,0])\n",
    "print(markov_hamilton_1_out_sample.param_names)"
   ]
  },
  {
   "cell_type": "code",
   "execution_count": null,
   "id": "8e3ab301ed32688d",
   "metadata": {
    "collapsed": false
   },
   "outputs": [],
   "source": [
    "mh1_out_sample_filter_results = markov_hamilton_1_out_sample.filter(params=mh1_params)\n",
    "mh1_out_sample_predicted_ksi_1_step = mh1_out_sample_filter_results.predicted_marginal_probabilities.tail(14)\n",
    "mh1_out_sample_predicted_ksi_1_step"
   ]
  },
  {
   "cell_type": "code",
   "execution_count": null,
   "id": "a6ac7f0f02ea6c60",
   "metadata": {
    "collapsed": false
   },
   "outputs": [],
   "source": [
    "# next we compute the predicted y_t using an expanding sample\n",
    "out_sample_forecasted_y_1_step = mh1_params['const[0]']*mh1_out_sample_predicted_ksi_1_step.loc[:,0] + mh1_params['const[1]']*mh1_out_sample_predicted_ksi_1_step.loc[:,1]\n",
    "out_sample_forecasted_y_1_step"
   ]
  },
  {
   "cell_type": "code",
   "execution_count": null,
   "id": "26a87406973f72c8",
   "metadata": {
    "collapsed": false
   },
   "outputs": [],
   "source": [
    "mh1_out_of_sample_forecast_results_1_step = pd.DataFrame(test['IPMAN'].copy())\n",
    "mh1_out_of_sample_forecast_results_1_step['predicted_IPMAN'] = out_sample_forecasted_y_1_step\n",
    "mh1_out_of_sample_forecast_results_1_step.rename(columns={'IPMAN': 'actual_IPMAN'}, inplace=True)\n",
    "mh1_out_of_sample_forecast_results_1_step['forecast_error'] = mh1_out_of_sample_forecast_results_1_step['actual_IPMAN'] - mh1_out_of_sample_forecast_results_1_step['predicted_IPMAN']\n",
    "mh1_out_of_sample_forecast_mse_1_step = (mh1_out_of_sample_forecast_results_1_step['forecast_error'] ** 2).mean()\n",
    "print(f'MSFE: {mh1_out_of_sample_forecast_mse_1_step}')\n",
    "mh1_out_of_sample_forecast_results_1_step"
   ]
  },
  {
   "cell_type": "markdown",
   "id": "2d0a083bddcba091",
   "metadata": {
    "collapsed": false
   },
   "source": [
    "### D\n",
    "\n",
    "Not implemented here. Look at other notebook"
   ]
  },
  {
   "cell_type": "code",
   "execution_count": null,
   "id": "79c6fc025433735a",
   "metadata": {
    "collapsed": false
   },
   "outputs": [],
   "source": [
    "# TODO: get em estimate of p0 and p1"
   ]
  },
  {
   "cell_type": "code",
   "execution_count": null,
   "id": "b81c250d3cec0a5a",
   "metadata": {
    "collapsed": false
   },
   "outputs": [],
   "source": [
    "# mh_em = sm.tsa.MarkovRegression(endog=train['IPMAN'], k_regimes=2, trend='c', switching_variance=True) # specify the model"
   ]
  },
  {
   "cell_type": "code",
   "execution_count": null,
   "id": "599e1c181966e531",
   "metadata": {
    "collapsed": false
   },
   "outputs": [],
   "source": [
    "# mh_em.initialize_known([0.5,0.5])  # initialize the model in state 1 and 2 with equal probability\n",
    "# \n",
    "# # fit the model by maximum likelihood using the Hamilton filter using start parameters in the order printed in the output of the cell above\n",
    "# # NOW we use EM algorithm to improve starting values by setting em_iter=0 and search_iter=0\n",
    "# mh_em_fitted = mh_em.fit(start_params=[0.8, 0.2, mean_ipman, mean_ipman, sigma_s1**2, sigma_s2**2], em_iter=1000, search_iter=0)\n",
    "# \n",
    "# #print summary of fitted model\n",
    "# print(mh_em_fitted.summary())"
   ]
  },
  {
   "cell_type": "code",
   "execution_count": null,
   "id": "12a94e971f43d042",
   "metadata": {
    "collapsed": false
   },
   "outputs": [],
   "source": [
    "# mh_em_fitted.predicted_marginal_probabilities"
   ]
  },
  {
   "cell_type": "code",
   "execution_count": null,
   "id": "a95b5f7c27944fef",
   "metadata": {
    "collapsed": false
   },
   "outputs": [],
   "source": [
    "# mh_em.initial_probabilities(params=mh_em_fitted.params)"
   ]
  },
  {
   "cell_type": "code",
   "execution_count": null,
   "id": "87543998019c7891",
   "metadata": {
    "collapsed": false
   },
   "outputs": [],
   "source": [
    "# dir(mh_em_fitted)"
   ]
  },
  {
   "cell_type": "code",
   "execution_count": null,
   "id": "534b40a9ee874ab6",
   "metadata": {
    "collapsed": false
   },
   "outputs": [],
   "source": [
    "# mh_em_fitted.initial_probabilities"
   ]
  },
  {
   "cell_type": "markdown",
   "id": "7d36c1e4ba0dec4d",
   "metadata": {
    "collapsed": false
   },
   "source": [
    "## Question 2: State Space Models\n",
    "\n",
    "First, we need to demean the data based on the first T=189 observations"
   ]
  },
  {
   "cell_type": "code",
   "execution_count": null,
   "id": "a8acc06d3f0fba62",
   "metadata": {
    "collapsed": false
   },
   "outputs": [],
   "source": [
    "train_demeaned = (train - train.mean()).copy()\n",
    "train_demeaned.head()"
   ]
  },
  {
   "cell_type": "markdown",
   "id": "cd1af7b41f924e8b",
   "metadata": {
    "collapsed": false
   },
   "source": [
    "### A\n",
    "\n",
    "Not implemented here. The code is implemented in the other notebook."
   ]
  },
  {
   "cell_type": "code",
   "execution_count": null,
   "id": "1ff3afeed5ff7109",
   "metadata": {
    "collapsed": false
   },
   "outputs": [],
   "source": [
    "# ar_1_model = sm.tsa.SARIMAX(train_demeaned['PCE'], order=(1,0,0), trend='n')\n",
    "# ar_1_model_fitted = ar_1_model.fit()"
   ]
  },
  {
   "cell_type": "code",
   "execution_count": null,
   "id": "72035e84abec5f39",
   "metadata": {
    "collapsed": false
   },
   "outputs": [],
   "source": [
    "# print(ar_1_model_fitted.summary())"
   ]
  },
  {
   "cell_type": "code",
   "execution_count": null,
   "id": "adaddd0e2de3c41",
   "metadata": {
    "collapsed": false
   },
   "outputs": [],
   "source": [
    "# ar1 =sm.tsa.AutoReg(train_demeaned['PCE'], lags=1, trend='n')\n",
    "# result = ar1.fit()\n",
    "# print(result.summary())"
   ]
  }
 ],
 "metadata": {
  "kernelspec": {
   "display_name": "Python 3",
   "language": "python",
   "name": "python3"
  },
  "language_info": {
   "codemirror_mode": {
    "name": "ipython",
    "version": 2
   },
   "file_extension": ".py",
   "mimetype": "text/x-python",
   "name": "python",
   "nbconvert_exporter": "python",
   "pygments_lexer": "ipython2",
   "version": "2.7.6"
  }
 },
 "nbformat": 4,
 "nbformat_minor": 5
}
